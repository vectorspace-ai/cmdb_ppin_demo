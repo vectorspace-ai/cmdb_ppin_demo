{
 "cells": [
  {
   "cell_type": "code",
   "execution_count": null,
   "metadata": {
    "deletable": false,
    "edittable": false
   },
   "outputs": [],
   "source": [
    "# !pip install pandas\n",
    "import pandas as pd\n",
    "import requests, json"
   ]
  },
  {
   "cell_type": "code",
   "execution_count": null,
   "metadata": {
    "deletable": false,
    "edittable": false
   },
   "outputs": [],
   "source": [
    "# Step 1 - Call the API for available language models\n",
    "import requests\n",
    "request = requests.get(f\"http://cmdb.vectorspacebio.science/api/get_language_models?vxv_wallet_addr=0076e0b8328203a1beb056caf17a05a78929bd74\")\n",
    "language_models = request.json()\n",
    "print(language_models)"
   ]
  },
  {
   "cell_type": "code",
   "execution_count": null,
   "metadata": {
    "deletable": false,
    "edittable": false
   },
   "outputs": [],
   "source": [
    "# Step 2 - Choose a language model - e.g., Biosciences_0001\n",
    "# Requires code from step 1\n",
    "\n",
    "language_model = language_models[0]\n",
    "print(language_model)"
   ]
  },
  {
   "cell_type": "code",
   "execution_count": null,
   "metadata": {
    "deletable": false,
    "edittable": false
   },
   "outputs": [],
   "source": [
    "# Step 3 - Define up to 10 custom features / column labels (up to 100,000 labels upon request)\n",
    "column_labels = [\"mena\", \"opa1\", \"cardiolipin\", \"plant\"]"
   ]
  },
  {
   "cell_type": "code",
   "execution_count": null,
   "metadata": {
    "deletable": false,
    "edittable": false
   },
   "outputs": [],
   "source": [
    "# Step 4 - Optional: Submit a context-dependency - e.g., \"mitochondria\"\n",
    "context_dependency = \"\"\n",
    "# context_dependency = \"mitochondria\""
   ]
  },
  {
   "cell_type": "code",
   "execution_count": 95,
   "metadata": {
    "deletable": false,
    "edittable": false
   },
   "outputs": [
    {
     "data": {
      "text/html": [
       "<div>\n",
       "<style scoped>\n",
       "    .dataframe tbody tr th:only-of-type {\n",
       "        vertical-align: middle;\n",
       "    }\n",
       "\n",
       "    .dataframe tbody tr th {\n",
       "        vertical-align: top;\n",
       "    }\n",
       "\n",
       "    .dataframe thead th {\n",
       "        text-align: right;\n",
       "    }\n",
       "</style>\n",
       "<table border=\"1\" class=\"dataframe\">\n",
       "  <thead>\n",
       "    <tr style=\"text-align: right;\">\n",
       "      <th></th>\n",
       "      <th>mena</th>\n",
       "      <th>opa1</th>\n",
       "      <th>cardiolipin</th>\n",
       "      <th>plant</th>\n",
       "    </tr>\n",
       "  </thead>\n",
       "  <tbody>\n",
       "    <tr>\n",
       "      <th>gpx3</th>\n",
       "      <td>0.176299</td>\n",
       "      <td>0.156379</td>\n",
       "      <td>0.117012</td>\n",
       "      <td>0.087985</td>\n",
       "    </tr>\n",
       "    <tr>\n",
       "      <th>klf4</th>\n",
       "      <td>0.212899</td>\n",
       "      <td>0.146064</td>\n",
       "      <td>0.132100</td>\n",
       "      <td>0.098185</td>\n",
       "    </tr>\n",
       "    <tr>\n",
       "      <th>lipf</th>\n",
       "      <td>0.149390</td>\n",
       "      <td>0.142724</td>\n",
       "      <td>0.135704</td>\n",
       "      <td>0.106586</td>\n",
       "    </tr>\n",
       "    <tr>\n",
       "      <th>serpinh1</th>\n",
       "      <td>0.160110</td>\n",
       "      <td>0.149142</td>\n",
       "      <td>0.126802</td>\n",
       "      <td>0.077069</td>\n",
       "    </tr>\n",
       "    <tr>\n",
       "      <th>thy1</th>\n",
       "      <td>0.183890</td>\n",
       "      <td>0.129527</td>\n",
       "      <td>0.124178</td>\n",
       "      <td>0.076974</td>\n",
       "    </tr>\n",
       "    <tr>\n",
       "      <th>inhba</th>\n",
       "      <td>0.169712</td>\n",
       "      <td>0.136570</td>\n",
       "      <td>0.109484</td>\n",
       "      <td>0.074945</td>\n",
       "    </tr>\n",
       "    <tr>\n",
       "      <th>nup88</th>\n",
       "      <td>0.175310</td>\n",
       "      <td>0.119508</td>\n",
       "      <td>0.102715</td>\n",
       "      <td>0.070485</td>\n",
       "    </tr>\n",
       "    <tr>\n",
       "      <th>tp53</th>\n",
       "      <td>0.217818</td>\n",
       "      <td>0.187344</td>\n",
       "      <td>0.151160</td>\n",
       "      <td>0.119801</td>\n",
       "    </tr>\n",
       "    <tr>\n",
       "      <th>tenm1</th>\n",
       "      <td>0.164161</td>\n",
       "      <td>0.091425</td>\n",
       "      <td>0.065897</td>\n",
       "      <td>0.053349</td>\n",
       "    </tr>\n",
       "    <tr>\n",
       "      <th>edar</th>\n",
       "      <td>0.101486</td>\n",
       "      <td>0.128494</td>\n",
       "      <td>0.086482</td>\n",
       "      <td>0.064477</td>\n",
       "    </tr>\n",
       "  </tbody>\n",
       "</table>\n",
       "</div>"
      ],
      "text/plain": [
       "              mena      opa1  cardiolipin     plant\n",
       "gpx3      0.176299  0.156379     0.117012  0.087985\n",
       "klf4      0.212899  0.146064     0.132100  0.098185\n",
       "lipf      0.149390  0.142724     0.135704  0.106586\n",
       "serpinh1  0.160110  0.149142     0.126802  0.077069\n",
       "thy1      0.183890  0.129527     0.124178  0.076974\n",
       "inhba     0.169712  0.136570     0.109484  0.074945\n",
       "nup88     0.175310  0.119508     0.102715  0.070485\n",
       "tp53      0.217818  0.187344     0.151160  0.119801\n",
       "tenm1     0.164161  0.091425     0.065897  0.053349\n",
       "edar      0.101486  0.128494     0.086482  0.064477"
      ]
     },
     "execution_count": 95,
     "metadata": {},
     "output_type": "execute_result"
    }
   ],
   "source": [
    "# Step 5 - Call the CMDB API and return a correlation matrix dataset\n",
    "# This method may take several minutes to complete depending on the request.\n",
    "# Requires code from step 1-4\n",
    "\n",
    "# Dependency requirement: pandas\n",
    "# If using a notebook: %pip install pandas or !pip install pandas\n",
    "# If using a terminal: pip install pandas\n",
    "\n",
    "import requests\n",
    "import pandas as pd\n",
    "\n",
    "# Specify the types of rows\n",
    "row_types = \"protein_names\"\n",
    "context_dependency = \"\"\n",
    "\n",
    "# Retrieve the correlation matrix dataset and hidden relationship matrix\n",
    "cmd_request = requests.get(f\"http://cmdb.vectorspacebio.science/api/get_correlation_matrix?vxv_wallet_addr=0076e0b8328203a1beb056caf17a05a78929bd74&language_model={language_model['name']}&row_types={row_types}&column_labels={'%2C%20'.join(column_labels)}&context_dependency={context_dependency}\")\n",
    "\n",
    "# Retrieve request and convert to dataframes\n",
    "cm_dataset = pd.DataFrame.from_dict(cmd_request.json())\n",
    "\n",
    "# Preview the correlation matrix dataset\n",
    "cm_dataset.head(10)"
   ]
  },
  {
   "cell_type": "code",
   "execution_count": null,
   "metadata": {},
   "outputs": [],
   "source": [
    "# Step 6 - Preprocess the data and output the html heatmap\n",
    "\n",
    "# This block preprocesses the data, outputs it to the terminal, injects it into a ready-to-go html template and saves the output in json format\n",
    "# This requires cm_dataset from step 5\n",
    "\n",
    "data = []\n",
    "\n",
    "cols = cm_dataset.columns.tolist()\n",
    "rows = cm_dataset.index.tolist()[:200] # For quick tests limit the number of rows\n",
    "\n",
    "for col_n, col in enumerate(cols):\n",
    "    for row_n, row in enumerate(rows):\n",
    "        data.append([col_n, row_n, cm_dataset[col][row]])\n",
    "\n",
    "# Visualize the data\n",
    "print(\"\\nColumn labels:\\n\")\n",
    "print(cols)\n",
    "print(\"\\nRows:\\n\")\n",
    "print(rows[:10])\n",
    "print(\"\\nCorrelation scores (sample):\\n\")\n",
    "print(data[:10])\n",
    "\n",
    "# Load the heatmap template\n",
    "with open(\"Heatmap/heatmap-template.html\", \"r\") as file_in:\n",
    "    text = file_in.read()\n",
    "\n",
    "# Replace the placeholder text with the data above\n",
    "text = text.replace(\"vsb_placeholder_column_labels\", str(cols))\n",
    "text = text.replace(\"vsb_placeholder_rows\", str(rows))\n",
    "text = text.replace(\"vsb_placeholder_correlation_scores\", str(data))\n",
    "\n",
    "# Adjust the width, height and legend height of the heatmap\n",
    "# The more rows included in the heatmap, the larger the height must be for visibility\n",
    "text = text.replace(\"vsb_placeholder_heatmap_width\", \"800\")\n",
    "text = text.replace(\"vsb_placeholder_heatmap_height\", \"800\")\n",
    "text = text.replace(\"vsb_placeholder_heatmap_legend_height\", \"300\")\n",
    "\n",
    "# Save out the updated heatmap file\n",
    "with open(\"Heatmap/heatmap.html\", \"w\") as file_out:\n",
    "    file_out.write(text)\n",
    "\n",
    "# Save out the JS\n",
    "json_output = {\"cols\": cols, \"rows\": rows, \"correlation_scores\": data}\n",
    "with open(\"Heatmap/output.json\", \"w\") as file_out:\n",
    "    json.dump(json_output, file_out)"
   ]
  },
  {
   "cell_type": "code",
   "execution_count": null,
   "metadata": {
    "deletable": false,
    "edittable": false
   },
   "outputs": [],
   "source": [
    "# Example of heatmap with rows (of proteins) and column labels\n",
    "\n",
    "# Dependency requirement: ipython\n",
    "# If using a notebook: %pip install ipython\n",
    "\n",
    "from IPython.display import Image\n",
    "Image(filename='heatmap-example.jpg') "
   ]
  },
  {
   "cell_type": "code",
   "execution_count": 98,
   "metadata": {
    "deletable": false,
    "edittable": false
   },
   "outputs": [],
   "source": [
    "# Step 7 - Expand the network of relationships by submitting the labels to the Protein-Protein Interaction Network (PPIN) API\n",
    "# This requires the column_labels from step 3\n",
    "\n",
    "import requests\n",
    "import json\n",
    "\n",
    "# Top_n value of 5 is recommended\n",
    "top_n = 5\n",
    "\n",
    "max_depth = 5\n",
    "scoring_threshold = 0.3\n",
    "ppin_context_dependency = \"\"\n",
    "cross_intersection = False\n",
    "\n",
    "network_results = []\n",
    "for column_label in column_labels:\n",
    "    ppin_request = requests.get(f\"http://ppin.vectorspacebio.science/api/protein_network?vxv_wallet_addr=d1030ededff0f348992fd4d41ae169dae99bf9c0&query={column_label}&branches={top_n}&max_depth={max_depth}&min_score={scoring_threshold}&context_dependency={ppin_context_dependency}&cross_intersection={cross_intersection}\")\n",
    "    result = json.loads(ppin_request.content.decode())\n",
    "    network_results.append(result)"
   ]
  },
  {
   "cell_type": "code",
   "execution_count": 99,
   "metadata": {
    "deletable": false,
    "edittable": false
   },
   "outputs": [
    {
     "name": "stdout",
     "output_type": "stream",
     "text": [
      "\n",
      "Nodes (sample):\n",
      "\n",
      "'' represents the root node\n",
      "\n",
      "[['', 'mena'], ['', 'opa1'], ['', 'cardiolipin'], ['', 'plant'], ['mena', 'Q8N8S7'], ['mena', 'Q7Z6K5'], ['mena', 'P35080'], ['mena', 'Q9UHD8'], ['mena', 'P11171'], ['Q8N8S7', 'Q9UI08']]\n",
      "\n",
      "Hidden relationships (sample):\n",
      "1 represents a known relationship, 0 represents a hidden relationship\n",
      "\n"
     ]
    }
   ],
   "source": [
    "# Step 8 - Preprocess the data and output the html network graph\n",
    "nodes = []\n",
    "hidden_relationships = {}\n",
    "\n",
    "# Add the root node of the graph\n",
    "root_node = \"\"\n",
    "for col in column_labels:\n",
    "    nodes.append([root_node, col])\n",
    "\n",
    "# Add the leaf nodes\n",
    "for result in network_results:\n",
    "    for item in result[\"graph_network\"]:\n",
    "        source, target = item[\"source\"], item[\"target\"]\n",
    "        key = f\"{source}_{target}\".lower()\n",
    "        nodes.append([source, target])\n",
    "        hidden_relationships[key] = item[\"known_relationship\"]\n",
    "\n",
    "# Visualize the nodes and hidden relationship data\n",
    "print(\"\\nNodes (sample):\\n\")\n",
    "print(\"'' represents the root node\\n\")\n",
    "print(nodes[:10])\n",
    "\n",
    "print(\"\\nHidden relationships (sample):\")\n",
    "print(\"1 represents a known relationship, 0 represents a hidden relationship\\n\")\n",
    "\n",
    "# Load the network graph template, replace the placeholders with the data above, save out network_graph.html\n",
    "with open(\"Network/hidden-relationship-network-template.html\", \"r\") as file_in:\n",
    "    text = file_in.read()\n",
    "\n",
    "text = text.replace(\"vsb_placeholder_nodes\", str(nodes))\n",
    "text = text.replace(\"vsb_placeholder_hidden_relationships\", str(hidden_relationships))\n",
    "\n",
    "with open(\"Network/hidden-relationship-network.html\", \"w\") as file_out:\n",
    "    file_out.write(text)\n",
    "\n",
    "# Save out the JS\n",
    "json_output = {\"nodes\": nodes, \"hidden_relationships\": hidden_relationships}\n",
    "with open(\"Network/output.json\", \"w\") as file_out:\n",
    "    json.dump(json_output, file_out)"
   ]
  },
  {
   "cell_type": "code",
   "execution_count": 96,
   "metadata": {},
   "outputs": [
    {
     "data": {
      "image/jpeg": "[encoded data removed]",
      "text/plain": [
       "<IPython.core.display.Image object>"
      ]
     },
     "execution_count": 96,
     "metadata": {},
     "output_type": "execute_result"
    }
   ],
   "source": [
    "# Example of heatmap with rows (of proteins) and column labels\n",
    "\n",
    "# Dependency requirement: ipython\n",
    "# If using a notebook: %pip install ipython\n",
    "\n",
    "from IPython.display import Image\n",
    "Image(filename='hidden-relationship-network-example.jpg') "
   ]
  }
 ],
 "metadata": {
  "celltoolbar": "Edit Metadata",
  "kernelspec": {
   "display_name": "Python 3 (ipykernel)",
   "language": "python",
   "name": "python3"
  },
  "language_info": {
   "codemirror_mode": {
    "name": "ipython",
    "version": 3
   },
   "file_extension": ".py",
   "mimetype": "text/x-python",
   "name": "python",
   "nbconvert_exporter": "python",
   "pygments_lexer": "ipython3",
   "version": "3.8.10"
  },
  "vscode": {
   "interpreter": {
    "hash": "916dbcbb3f70747c44a77c7bcd40155683ae19c65e1c03b4aa3499c5328201f1"
   }
  }
 },
 "nbformat": 4,
 "nbformat_minor": 2
}
